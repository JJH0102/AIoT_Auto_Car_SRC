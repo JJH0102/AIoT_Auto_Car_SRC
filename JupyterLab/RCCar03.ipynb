{
 "cells": [
  {
   "cell_type": "code",
   "execution_count": null,
   "metadata": {},
   "outputs": [],
   "source": [
    "from pop import LiDAR, Pilot\n",
    "import time\n",
    "\n",
    "lidar = LiDAR.Rplidar()     # LiDAR 객체 생성\n",
    "car = Pilot.AutoCar()       # Auto 객체 생성\n",
    "\n",
    "lidar.connect()\n",
    "lidar.startMotor()\n",
    "\n",
    "car.setSpeed(99)       # 속도 조절\n",
    "car.streering = 0      # 조향 가운데\n",
    "car.stop()\n",
    "\n",
    "while True:\n",
    "    no_collision = True\n",
    "    \n",
    "    vectors = lidar.getVectors()\n",
    "    \n",
    "    for v in vectors:\n",
    "        \n",
    "        degree = v[0]\n",
    "        distance = v[1]\n",
    "        \n",
    "        print(degree, distance)\n",
    "        \n",
    "        if degree <= 60 or degree >= 300:\n",
    "            if distance <= 700:\n",
    "                no_collision = False\n",
    "\n",
    "            if no_collision:\n",
    "                car.setSpeed(50)\n",
    "                car.forward()\n",
    "\n",
    "            else:\n",
    "                if car.steering == 0:\n",
    "                    car.stop()\n",
    "                \n",
    "            car.streering = -1\n",
    "            car.backward(50)"
   ]
  },
  {
   "cell_type": "code",
   "execution_count": 5,
   "metadata": {},
   "outputs": [
    {
     "name": "stderr",
     "output_type": "stream",
     "text": [
      "/usr/local/lib/python3.6/dist-packages/numba/errors.py:137: UserWarning: Insufficiently recent colorama version found. Numba requires colorama >= 0.3.9\n",
      "  warnings.warn(msg)\n"
     ]
    },
    {
     "name": "stdout",
     "output_type": "stream",
     "text": [
      "640, 480, 3\n"
     ]
    }
   ],
   "source": [
    "from pop import Util\n",
    "Util.createIMG()\n",
    "\n",
    "import cv2\n",
    "\n",
    "image = cv2.imread(\"img.jpg\", cv2.IMREAD_COLOR)\n",
    "height, width, channel = image.shape\n",
    "\n",
    "print(\"%d, %d, %d\" % (width, height, channel))"
   ]
  },
  {
   "cell_type": "code",
   "execution_count": 6,
   "metadata": {},
   "outputs": [
    {
     "data": {
      "application/vnd.jupyter.widget-view+json": {
       "model_id": "ee5adba2ca9c4f0d958fa555330a0afe",
       "version_major": 2,
       "version_minor": 0
      },
      "text/plain": [
       "Image(value=b'\\xff\\xd8\\xff\\xe0\\x00\\x10JFIF\\x00\\x01\\x01\\x00\\x00\\x01\\x00\\x01\\x00\\x00\\xff\\xdb\\x00C\\x00\\x02\\x01\\x0…"
      ]
     },
     "metadata": {},
     "output_type": "display_data"
    },
    {
     "data": {
      "application/vnd.jupyter.widget-view+json": {
       "model_id": "228a89613e7c45e8a22cde78e64cccc1",
       "version_major": 2,
       "version_minor": 0
      },
      "text/plain": [
       "Image(value=b'\\xff\\xd8\\xff\\xe0\\x00\\x10JFIF\\x00\\x01\\x01\\x00\\x00\\x01\\x00\\x01\\x00\\x00\\xff\\xdb\\x00C\\x00\\x02\\x01\\x0…"
      ]
     },
     "metadata": {},
     "output_type": "display_data"
    }
   ],
   "source": [
    "import cv2\n",
    "from pop import Util\n",
    "\n",
    "Util.enable_imshow()\n",
    "\n",
    "filename = \"img.jpg\"\n",
    "\n",
    "imgColor = cv2.imread(filename, cv2.IMREAD_COLOR)\n",
    "imgGray = cv2.imread(filename, cv2.IMREAD_GRAYSCALE)\n",
    "\n",
    "cv2.imshow(\"Color\", imgColor)\n",
    "cv2.imshow(\"GrayScale\", imgGray)"
   ]
  },
  {
   "cell_type": "code",
   "execution_count": 8,
   "metadata": {},
   "outputs": [
    {
     "data": {
      "application/vnd.jupyter.widget-view+json": {
       "model_id": "36d126868fde4854ba48d54ac07f9a24",
       "version_major": 2,
       "version_minor": 0
      },
      "text/plain": [
       "Image(value=b'\\xff\\xd8\\xff\\xe0\\x00\\x10JFIF\\x00\\x01\\x01\\x00\\x00\\x01\\x00\\x01\\x00\\x00\\xff\\xdb\\x00C\\x00\\x02\\x01\\x0…"
      ]
     },
     "metadata": {},
     "output_type": "display_data"
    },
    {
     "data": {
      "application/vnd.jupyter.widget-view+json": {
       "model_id": "dfb7ca37a900465e9263bce6ce266d6c",
       "version_major": 2,
       "version_minor": 0
      },
      "text/plain": [
       "Image(value=b'\\xff\\xd8\\xff\\xe0\\x00\\x10JFIF\\x00\\x01\\x01\\x00\\x00\\x01\\x00\\x01\\x00\\x00\\xff\\xdb\\x00C\\x00\\x02\\x01\\x0…"
      ]
     },
     "metadata": {},
     "output_type": "display_data"
    }
   ],
   "source": [
    "import cv2\n",
    "from pop import Util\n",
    "\n",
    "Util.enable_imshow()\n",
    "imgOrigin = cv2.imread(\"img.jpg\", cv2.IMREAD_COLOR)\n",
    "\n",
    "b, g, r = cv2.split(imgOrigin)\n",
    "imgNew = cv2.merge([r, g, b])\n",
    "\n",
    "cv2.imshow(\"Origin\", imgOrigin)\n",
    "cv2.imshow(\"New\", imgNew)\n",
    "\n",
    "cv2.waitKey(0)\n",
    "cv2.destroyAllWindows()"
   ]
  },
  {
   "cell_type": "code",
   "execution_count": 10,
   "metadata": {},
   "outputs": [
    {
     "data": {
      "text/plain": [
       "True"
      ]
     },
     "execution_count": 10,
     "metadata": {},
     "output_type": "execute_result"
    }
   ],
   "source": [
    "import cv2\n",
    "\n",
    "imgOrigin = cv2.imread(\"img.jpg\", cv2.IMREAD_COLOR)\n",
    "imgGray = cv2.imread(\"img.jpg\", cv2.IMREAD_GRAYSCALE)\n",
    "\n",
    "cv2.imwrite(\"img.jpg\", imgOrigin)\n",
    "cv2.imwrite(\"imgGray.jpg\", imgGray)"
   ]
  },
  {
   "cell_type": "code",
   "execution_count": 16,
   "metadata": {},
   "outputs": [
    {
     "name": "stdout",
     "output_type": "stream",
     "text": [
      "init width : 640, init height : 480\n"
     ]
    },
    {
     "data": {
      "application/vnd.jupyter.widget-view+json": {
       "model_id": "e6c708ea9b4a4bd1ac8d9fc567ee925b",
       "version_major": 2,
       "version_minor": 0
      },
      "text/plain": [
       "Image(value=b'\\xff\\xd8\\xff\\xe0\\x00\\x10JFIF\\x00\\x01\\x01\\x00\\x00\\x01\\x00\\x01\\x00\\x00\\xff\\xdb\\x00C\\x00\\x02\\x01\\x0…"
      ]
     },
     "metadata": {},
     "output_type": "display_data"
    }
   ],
   "source": [
    "import cv2\n",
    "from pop import Util\n",
    "\n",
    "Util.enable_imshow()\n",
    "\n",
    "cam = Util.gstrmer(width = 640, height = 480)\n",
    "\n",
    "camera = cv2.VideoCapture(cam, cv2.CAP_GSTREAMER)\n",
    "\n",
    "if not camera.isOpened():\n",
    "    print(\"Not found camera\")\n",
    "    \n",
    "width = camera.get(cv2.CAP_PROP_FRAME_WIDTH)\n",
    "height = camera.get(cv2.CAP_PROP_FRAME_HEIGHT)\n",
    "\n",
    "print(\"init width : %d, init height : %d\" % (width, height))\n",
    "\n",
    "for _ in range(120):\n",
    "    ret, frame = camera.read()\n",
    "    \n",
    "    if not ret:\n",
    "        break\n",
    "        \n",
    "    cv2.imshow(\"soda\", frame)\n",
    "    \n",
    "camera.release()\n",
    "cv2.destroyAllWindows()"
   ]
  },
  {
   "cell_type": "code",
   "execution_count": 42,
   "metadata": {},
   "outputs": [
    {
     "name": "stdout",
     "output_type": "stream",
     "text": [
      "init width : 640, init height : 480\n"
     ]
    },
    {
     "data": {
      "application/vnd.jupyter.widget-view+json": {
       "model_id": "e6c708ea9b4a4bd1ac8d9fc567ee925b",
       "version_major": 2,
       "version_minor": 0
      },
      "text/plain": [
       "Image(value=b'\\xff\\xd8\\xff\\xe0\\x00\\x10JFIF\\x00\\x01\\x01\\x00\\x00\\x01\\x00\\x01\\x00\\x00\\xff\\xdb\\x00C\\x00\\x02\\x01\\x0…"
      ]
     },
     "metadata": {},
     "output_type": "display_data"
    }
   ],
   "source": [
    "import cv2\n",
    "from pop import Util\n",
    "import time\n",
    "from pop import Pilot\n",
    "\n",
    "Car = Pilot.AutoCar()\n",
    "\n",
    "Util.enable_imshow()\n",
    "\n",
    "cam = Util.gstrmer(width = 640, height = 480)\n",
    "\n",
    "camera = cv2.VideoCapture(cam, cv2.CAP_GSTREAMER)\n",
    "\n",
    "if not camera.isOpened():\n",
    "    print(\"Not found camera\")\n",
    "    \n",
    "width = camera.get(cv2.CAP_PROP_FRAME_WIDTH)\n",
    "height = camera.get(cv2.CAP_PROP_FRAME_HEIGHT)\n",
    "\n",
    "print(\"init width : %d, init height : %d\" % (width, height))\n",
    "\n",
    "for i in range(180):     \n",
    "    ret, frame = camera.read()\n",
    "    Car.camPan(i)\n",
    "    \n",
    "    if not ret:\n",
    "        break\n",
    "        \n",
    "    cv2.imshow(\"soda\", frame)\n",
    "    \n",
    "for i in range(70):             # 카메라가 오른쪽으로 이동\n",
    "    ret, frame = camera.read()\n",
    "    Car.camTilt(i)\n",
    "    \n",
    "    if not ret:\n",
    "        break\n",
    "        \n",
    "    cv2.imshow(\"soda\", frame)\n",
    "    \n",
    "for i in range(70):     \n",
    "    ret, frame = camera.read()\n",
    "    Car.camTilt(69 - i)\n",
    "    \n",
    "    if not ret:\n",
    "        break\n",
    "        \n",
    "    cv2.imshow(\"soda\", frame)\n",
    "    \n",
    "for i in range(60):     \n",
    "    \n",
    "    ret, frame = camera.read()\n",
    "    Car.camPan(59 - i)\n",
    "    \n",
    "    if not ret:\n",
    "        break\n",
    "        \n",
    "    cv2.imshow(\"soda\", frame)\n",
    "    \n",
    "camera.release()\n",
    "cv2.destroyAllWindows()"
   ]
  },
  {
   "cell_type": "code",
   "execution_count": 39,
   "metadata": {},
   "outputs": [
    {
     "data": {
      "application/vnd.jupyter.widget-view+json": {
       "model_id": "e6c708ea9b4a4bd1ac8d9fc567ee925b",
       "version_major": 2,
       "version_minor": 0
      },
      "text/plain": [
       "Image(value=b'\\xff\\xd8\\xff\\xe0\\x00\\x10JFIF\\x00\\x01\\x01\\x00\\x00\\x01\\x00\\x01\\x00\\x00\\xff\\xdb\\x00C\\x00\\x02\\x01\\x0…"
      ]
     },
     "metadata": {},
     "output_type": "display_data"
    }
   ],
   "source": [
    "import cv2\n",
    "from pop import Util\n",
    "\n",
    "Util.enable_imshow()\n",
    "\n",
    "cam = Util.gstrmer(width = 640, height = 480)\n",
    "\n",
    "camera = cv2.VideoCapture(cam, cv2.CAP_GSTREAMER)\n",
    "\n",
    "if not camera.isOpened():\n",
    "    print(\"Not found camera\")\n",
    "    \n",
    "fourcc = cv2.VideoWriter_fourcc(*\"X264\")\n",
    "out = cv2.VideoWriter(\"soda.avi\", fourcc, 30, (640, 480))\n",
    "\n",
    "for _ in range(120):\n",
    "    ret, frame = camera.read()\n",
    "    framGray = cv2.cvtColor(frame, cv2.COLOR_BGR2GRAY)\n",
    "    out.write(frame)\n",
    "    \n",
    "    cv2.imshow(\"soda\", framGray)\n",
    "    \n",
    "camera.release()\n",
    "cv2.destroyAllWindows()"
   ]
  },
  {
   "cell_type": "code",
   "execution_count": 96,
   "metadata": {},
   "outputs": [
    {
     "data": {
      "application/vnd.jupyter.widget-view+json": {
       "model_id": "e6c708ea9b4a4bd1ac8d9fc567ee925b",
       "version_major": 2,
       "version_minor": 0
      },
      "text/plain": [
       "Image(value=b'\\xff\\xd8\\xff\\xe0\\x00\\x10JFIF\\x00\\x01\\x01\\x00\\x00\\x01\\x00\\x01\\x00\\x00\\xff\\xdb\\x00C\\x00\\x02\\x01\\x0…"
      ]
     },
     "metadata": {},
     "output_type": "display_data"
    },
    {
     "ename": "KeyboardInterrupt",
     "evalue": "",
     "output_type": "error",
     "traceback": [
      "\u001b[0;31m---------------------------------------------------------------------------\u001b[0m",
      "\u001b[0;31mKeyboardInterrupt\u001b[0m                         Traceback (most recent call last)",
      "\u001b[0;32m<ipython-input-96-bf0a2bb1d1bd>\u001b[0m in \u001b[0;36m<module>\u001b[0;34m\u001b[0m\n\u001b[1;32m     11\u001b[0m \u001b[0;34m\u001b[0m\u001b[0m\n\u001b[1;32m     12\u001b[0m \u001b[0;32mfor\u001b[0m \u001b[0m_\u001b[0m \u001b[0;32min\u001b[0m \u001b[0mrange\u001b[0m\u001b[0;34m(\u001b[0m\u001b[0;36m120\u001b[0m\u001b[0;34m)\u001b[0m\u001b[0;34m:\u001b[0m\u001b[0;34m\u001b[0m\u001b[0;34m\u001b[0m\u001b[0m\n\u001b[0;32m---> 13\u001b[0;31m     \u001b[0mret\u001b[0m\u001b[0;34m,\u001b[0m \u001b[0mframe\u001b[0m \u001b[0;34m=\u001b[0m \u001b[0mcamera\u001b[0m\u001b[0;34m.\u001b[0m\u001b[0mread\u001b[0m\u001b[0;34m(\u001b[0m\u001b[0;34m)\u001b[0m\u001b[0;34m\u001b[0m\u001b[0;34m\u001b[0m\u001b[0m\n\u001b[0m\u001b[1;32m     14\u001b[0m     \u001b[0mimg\u001b[0m \u001b[0;34m=\u001b[0m \u001b[0mcv2\u001b[0m\u001b[0;34m.\u001b[0m\u001b[0mCanny\u001b[0m\u001b[0;34m(\u001b[0m\u001b[0mframe\u001b[0m\u001b[0;34m,\u001b[0m \u001b[0;36m100\u001b[0m\u001b[0;34m,\u001b[0m \u001b[0;36m200\u001b[0m\u001b[0;34m)\u001b[0m\u001b[0;34m\u001b[0m\u001b[0;34m\u001b[0m\u001b[0m\n\u001b[1;32m     15\u001b[0m \u001b[0;34m\u001b[0m\u001b[0m\n",
      "\u001b[0;31mKeyboardInterrupt\u001b[0m: "
     ]
    }
   ],
   "source": [
    "import cv2\n",
    "from pop import Util\n",
    "\n",
    "Util.enable_imshow()\n",
    "\n",
    "cam = Util.gstrmer(width = 640, height = 480)\n",
    "camera = cv2.VideoCapture(cam, cv2.CAP_GSTREAMER)\n",
    "\n",
    "if not camera.isOpened():\n",
    "    print(\"Not found camera\")\n",
    "    \n",
    "for _ in range(120):\n",
    "    ret, frame = camera.read()\n",
    "    img = cv2.Canny(frame, 100, 200)\n",
    "    \n",
    "    cv2.imshow(\"soda\", img)\n",
    "    \n",
    "camera.release()\n",
    "cv2.destroyAllWindows()"
   ]
  },
  {
   "cell_type": "code",
   "execution_count": 95,
   "metadata": {},
   "outputs": [
    {
     "data": {
      "application/vnd.jupyter.widget-view+json": {
       "model_id": "4cae77c323b34d33b717b1f5a38d1a5d",
       "version_major": 2,
       "version_minor": 0
      },
      "text/plain": [
       "Image(value=b'\\xff\\xd8\\xff\\xe0\\x00\\x10JFIF\\x00\\x01\\x01\\x00\\x00\\x01\\x00\\x01\\x00\\x00\\xff\\xdb\\x00C\\x00\\x02\\x01\\x0…"
      ]
     },
     "metadata": {},
     "output_type": "display_data"
    }
   ],
   "source": [
    "import cv2\n",
    "from pop import Util\n",
    "\n",
    "Util.enable_imshow()\n",
    "\n",
    "haar_face = '/usr/local/share/opencv4/haarcascades/haarcascade_frontalface_default.xml'\n",
    "face_cascade = cv2.CascadeClassifier(haar_face)\n",
    "\n",
    "cam = Util.gstrmer(width=640, height=480)\n",
    "camera = cv2.VideoCapture(cam, cv2.CAP_GSTREAMER)\n",
    "\n",
    "if not camera.isOpened():\n",
    "    print(\"Not found camera\")\n",
    "    \n",
    "for _ in range(300):\n",
    "    ret, img = camera.read()\n",
    "\n",
    "    gray = cv2.cvtColor(img, cv2.COLOR_BGR2GRAY)\n",
    "    faces = face_cascade.detectMultiScale(gray, scaleFactor=1.3, minNeighbors=1, minSize=(100, 100))\n",
    "\n",
    "    for (x, y, w, h) in faces:\n",
    "        cv2.rectangle(img, (x, y), (x + w, y + h), (255, 0, 0), 2)\n",
    "\n",
    "    cv2.imshow('img', img)\n",
    "\n",
    "camera.release()\n",
    "cv2.destroyAllWindows()"
   ]
  },
  {
   "cell_type": "code",
   "execution_count": null,
   "metadata": {},
   "outputs": [],
   "source": []
  },
  {
   "cell_type": "code",
   "execution_count": null,
   "metadata": {},
   "outputs": [],
   "source": []
  }
 ],
 "metadata": {
  "kernelspec": {
   "display_name": "Python 3",
   "language": "python",
   "name": "python3"
  },
  "language_info": {
   "codemirror_mode": {
    "name": "ipython",
    "version": 3
   },
   "file_extension": ".py",
   "mimetype": "text/x-python",
   "name": "python",
   "nbconvert_exporter": "python",
   "pygments_lexer": "ipython3",
   "version": "3.6.9"
  }
 },
 "nbformat": 4,
 "nbformat_minor": 4
}
