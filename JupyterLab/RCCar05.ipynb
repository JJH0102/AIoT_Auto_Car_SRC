{
 "cells": [
  {
   "cell_type": "code",
   "execution_count": 4,
   "metadata": {},
   "outputs": [],
   "source": [
    "import pyaudio\n",
    "import wave\n",
    "\n",
    "w = wave.open(\"/usr/share/sounds/alsa/Side_Left.wav\", \"rb\")\n",
    "p = pyaudio.PyAudio()\n",
    "stream = p.open(format = p.get_format_from_width(2), channels = 1, rate = 48000, output = True)\n",
    "\n",
    "stream.stop_stream()\n",
    "stream.close()\n",
    "\n",
    "stream = p.open(format = p.get_format_from_width(w.getsampwidth()), \n",
    "                channels = w.getnchannels(), rate = w.getframerate(), output = True)\n",
    "\n",
    "w.rewind()\n",
    "\n",
    "data = w.readframes(1024)\n",
    "\n",
    "while len(data) > 0:\n",
    "    stream.write(data)\n",
    "    data = w.readframes(1024)\n",
    "    \n",
    "w.close()\n",
    "stream.close()\n",
    "p.terminate()"
   ]
  },
  {
   "cell_type": "code",
   "execution_count": 1,
   "metadata": {},
   "outputs": [
    {
     "name": "stdout",
     "output_type": "stream",
     "text": [
      "man work...\n",
      "man work...\n",
      "man work...\n",
      "man work...\n",
      "man work...\n",
      "man work...\n",
      "man work...\n",
      "man work...\n",
      "man work...\n",
      "man work...\n",
      "man work...\n",
      "man work...\n",
      "man work...\n",
      "man work...\n"
     ]
    }
   ],
   "source": [
    "import pyaudio\n",
    "import wave\n",
    "import time\n",
    "\n",
    "def callback(in_data, frame_count, time_info, status):\n",
    "    data = w.readframes(frame_count)\n",
    "    return(data, pyaudio.paContinue)\n",
    "\n",
    "w = wave.open(\"/usr/share/sounds/alsa/Side_Left.wav\", \"rb\")\n",
    "p = pyaudio.PyAudio()\n",
    "\n",
    "stream = p.open(format = p.get_format_from_width(w.getsampwidth()), \n",
    "                channels = w.getnchannels(), rate = w.getframerate(), \n",
    "                output = True, stream_callback=callback)\n",
    "\n",
    "stream.start_stream()\n",
    "\n",
    "while stream.is_active():\n",
    "    print(\"man work...\")\n",
    "    time.sleep(0.1)\n",
    "\n",
    "stream.stop_stream()    \n",
    "stream.close()\n",
    "p.terminate()"
   ]
  },
  {
   "cell_type": "code",
   "execution_count": 3,
   "metadata": {},
   "outputs": [],
   "source": [
    "import pyaudio\n",
    "import numpy as np\n",
    "\n",
    "volume = 0.5\n",
    "fs = 48000\n",
    "duration = 1.0\n",
    "f = 440.0\n",
    "\n",
    "data = (np.sin(2 * np.pi * np.arange(fs * duration) * f / fs)).astype(np.float32)\n",
    "p = pyaudio.PyAudio()\n",
    "\n",
    "stream = p.open(format = pyaudio.paFloat32, channels = 1, \n",
    "                rate = fs, output = True)\n",
    "stream.write(volume * data)\n",
    "\n",
    "stream.stop_stream()\n",
    "stream.close()\n",
    "p.terminate()"
   ]
  },
  {
   "cell_type": "code",
   "execution_count": 6,
   "metadata": {},
   "outputs": [],
   "source": [
    "import pyaudio\n",
    "import numpy as np\n",
    "\n",
    "class Tone:\n",
    "    def __init__(self, volume = .5, rate = 48000, channels = 1):\n",
    "        self.volume = volume # self.volume -> 멤버변수\n",
    "        self.rate = rate\n",
    "        self.channels = channels\n",
    "        self.p = pyaudio.PyAudio()\n",
    "        self.stream = self.p.open(format = pyaudio.paFloat32, \n",
    "                                  channels = self.channels, rate = self.rate, output = True)\n",
    "        \n",
    "    def __enter__(self):\n",
    "        return self\n",
    "    \n",
    "    def __exit__(self, type, value, traceback):\n",
    "        self.stop() # python에서는 함수 정의를 뒤에 하고 호출을 앞에 해도 가능\n",
    "        \n",
    "    def stop(self):\n",
    "        self.stream.stop_stream()\n",
    "        self.stream.close()\n",
    "        self.p.terminate()\n",
    "        \n",
    "    def play(self, octave, note, duration):\n",
    "        f = 2 ** (octave) * 55 * 2 ** (((note) - 10) / 12)\n",
    "        sample = (np.sin(2 * np.pi * np.arange(self.rate * duration) * f / self.rate)).astype(np.float32)\n",
    "        self.stream.write(self.volume * sample)\n",
    "        \n",
    "with Tone() as tone:\n",
    "    for n in[1, 3, 5, 7, 8, 10, 12]:\n",
    "        tone.play(3, n, 4)"
   ]
  },
  {
   "cell_type": "code",
   "execution_count": null,
   "metadata": {},
   "outputs": [],
   "source": []
  }
 ],
 "metadata": {
  "kernelspec": {
   "display_name": "Python 3",
   "language": "python",
   "name": "python3"
  },
  "language_info": {
   "codemirror_mode": {
    "name": "ipython",
    "version": 3
   },
   "file_extension": ".py",
   "mimetype": "text/x-python",
   "name": "python",
   "nbconvert_exporter": "python",
   "pygments_lexer": "ipython3",
   "version": "3.6.9"
  }
 },
 "nbformat": 4,
 "nbformat_minor": 4
}
