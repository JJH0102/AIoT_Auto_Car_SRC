{
 "cells": [
  {
   "cell_type": "code",
   "execution_count": 10,
   "metadata": {},
   "outputs": [
    {
     "name": "stdin",
     "output_type": "stream",
     "text": [
      "숫자 입력 :  3\n",
      "숫자 입력 :  0\n"
     ]
    }
   ],
   "source": [
    "import pyaudio\n",
    "import numpy as np\n",
    "\n",
    "class Tone:\n",
    "    def __init__(self, volume = .5, rate = 48000, channels = 1):\n",
    "        self.volume = volume\n",
    "        self.rate = rate\n",
    "        self.channels = channels\n",
    "        self.p = pyaudio.PyAudio()\n",
    "        self.stream = self.p.open(format = pyaudio.paFloat32, \n",
    "                                  channels = self.channels, rate = self.rate, output = True)\n",
    "        \n",
    "    def __enter__(self):\n",
    "        return self\n",
    "    \n",
    "    def __exit__(self, type, value, traceback):\n",
    "        self.stop()\n",
    "        \n",
    "    def stop(self):\n",
    "        self.stream.stop_stream()\n",
    "        self.stream.close()\n",
    "        self.p.terminate()\n",
    "        \n",
    "    def play(self, octave, note, duration):\n",
    "        f = 2 ** (octave) * 55 * 2 ** (((note) - 10) / 12)\n",
    "        sample = (np.sin(2 * np.pi * np.arange(self.rate * duration) * f / self.rate)).astype(np.float32)\n",
    "        self.stream.write(self.volume * sample)\n",
    "\n",
    "# 한 개 입력\n",
    "with Tone() as tone:\n",
    "    while True:\n",
    "        i_Tone = int(input(\"숫자 입력 : \"))\n",
    "        \n",
    "        if i_Tone == 0: \n",
    "            break\n",
    "            \n",
    "        else:\n",
    "            tone.play(3, i_Tone, 4)   "
   ]
  },
  {
   "cell_type": "code",
   "execution_count": 27,
   "metadata": {},
   "outputs": [
    {
     "name": "stdin",
     "output_type": "stream",
     "text": [
      "숫자 입력 :  3 2 1 2 3 3 3 2 2 2 3 3 3\n",
      "숫자 입력 :  0\n"
     ]
    }
   ],
   "source": [
    "import pyaudio\n",
    "import numpy as np\n",
    "\n",
    "class Tone:\n",
    "    def __init__(self, volume = .5, rate = 48000, channels = 1):\n",
    "        self.volume = volume\n",
    "        self.rate = rate\n",
    "        self.channels = channels\n",
    "        self.p = pyaudio.PyAudio()\n",
    "        self.stream = self.p.open(format = pyaudio.paFloat32, \n",
    "                                  channels = self.channels, rate = self.rate, output = True)\n",
    "        \n",
    "    def __enter__(self):\n",
    "        return self\n",
    "    \n",
    "    def __exit__(self, type, value, traceback):\n",
    "        self.stop()\n",
    "        \n",
    "    def stop(self):\n",
    "        self.stream.stop_stream()\n",
    "        self.stream.close()\n",
    "        self.p.terminate()\n",
    "        \n",
    "    def play(self, octave, notes, duration):\n",
    "        for note in notes:\n",
    "            f = 2 ** (octave) * 55 * 2 ** (((note) - 10) / 12)\n",
    "            sample = (np.sin(2 * np.pi * np.arange(self.rate * duration) * f / self.rate)).astype(np.float32)\n",
    "            self.stream.write(self.volume * sample)\n",
    "\n",
    "# 여러 개 입력\n",
    "with Tone() as tone:\n",
    "    while True:\n",
    "        Tone_list = input(\"숫자 입력 : \").split()\n",
    "        Tone_list = list(map(int, Tone_list))\n",
    "        \n",
    "        if 0 in Tone_list: \n",
    "            break\n",
    "            \n",
    "        else:\n",
    "            tone.play(3, Tone_list, 4)"
   ]
  },
  {
   "cell_type": "code",
   "execution_count": 17,
   "metadata": {},
   "outputs": [
    {
     "name": "stdout",
     "output_type": "stream",
     "text": [
      "1216\n",
      "1216\n",
      "1216\n",
      "1215\n",
      "1213\n",
      "862\n",
      "47\n",
      "48\n",
      "48\n",
      "50\n",
      "51\n",
      "54\n",
      "649\n",
      "506\n",
      "701\n",
      "817\n",
      "80\n",
      "79\n",
      "56\n",
      "57\n"
     ]
    }
   ],
   "source": [
    "# 조도 센서 이용\n",
    "\n",
    "import numpy as np\n",
    "from pop import Cds, delay\n",
    "\n",
    "cds = Cds(7)\n",
    "\n",
    "for i in range(20):\n",
    "    value = cds.readAverage()\n",
    "    print(value)\n",
    "    delay(500)"
   ]
  },
  {
   "cell_type": "code",
   "execution_count": 31,
   "metadata": {},
   "outputs": [
    {
     "ename": "SyntaxError",
     "evalue": "invalid syntax (<ipython-input-31-622bcbd553e8>, line 15)",
     "output_type": "error",
     "traceback": [
      "\u001b[0;36m  File \u001b[0;32m\"<ipython-input-31-622bcbd553e8>\"\u001b[0;36m, line \u001b[0;32m15\u001b[0m\n\u001b[0;31m    Car.forward(value / 16s)\u001b[0m\n\u001b[0m                          ^\u001b[0m\n\u001b[0;31mSyntaxError\u001b[0m\u001b[0;31m:\u001b[0m invalid syntax\n"
     ]
    }
   ],
   "source": [
    "# 조도 센서 이용하여 RC Car 속도 조정\n",
    "\n",
    "import numpy as np\n",
    "import time\n",
    "from pop import Cds, delay\n",
    "from pop import Pilot\n",
    "\n",
    "Car = Pilot.AutoCar()\n",
    "cds = Cds(7)\n",
    "\n",
    "for i in range(100):\n",
    "    value = cds.readAverage()\n",
    "    \n",
    "    Car.setSpeed(value / 16)\n",
    "    Car.forward()\n",
    "    \n",
    "    print(value)\n",
    "    delay(500)"
   ]
  },
  {
   "cell_type": "code",
   "execution_count": 33,
   "metadata": {},
   "outputs": [
    {
     "name": "stdout",
     "output_type": "stream",
     "text": [
      "0    1\n",
      "1    2\n",
      "2    3\n",
      "3    4\n",
      "dtype: int64\n"
     ]
    }
   ],
   "source": [
    "import pandas as pd\n",
    "\n",
    "arr = [1, 2, 3, 4] # python list\n",
    "type(arr)\n",
    "\n",
    "s = pd.Series(arr) # series type 객체 변환 -> index와 value 형태로 변환\n",
    "print(s)\n",
    "type(s)"
   ]
  },
  {
   "cell_type": "code",
   "execution_count": 50,
   "metadata": {},
   "outputs": [
    {
     "name": "stdout",
     "output_type": "stream",
     "text": [
      "<class 'pandas.core.series.Series'>\n",
      "32\n",
      "Index(['온도', '습도', '강수량', '불쾌지수'], dtype='object')\n",
      "[ 32  68 220  77]\n",
      "32\n",
      "68\n",
      "77\n",
      "온도       32\n",
      "습도       68\n",
      "강수량     220\n",
      "불쾌지수     77\n",
      "좋음        0\n",
      "dtype: int64\n",
      "온도       32\n",
      "습도       68\n",
      "강수량     220\n",
      "불쾌지수     77\n",
      "dtype: int64\n"
     ]
    }
   ],
   "source": [
    "import pandas as pd\n",
    "\n",
    "value = [32, 68, 220, 77]\n",
    "i = [\"온도\", \"습도\", \"강수량\", \"불쾌지수\"]\n",
    "\n",
    "sr = pd.Series(value, index)\n",
    "\n",
    "print(type(sr))\n",
    "\n",
    "print(sr[\"온도\"]) # index를 통한 접근\n",
    "print(sr.index)\n",
    "print(sr.values)\n",
    "print(sr.iloc[0]) # iloc 행번호로 출력\n",
    "print(sr.loc['습도']) # loc index로 출력\n",
    "print(sr.iloc[-1]) # '-1'은 마지막 value에 접근\n",
    "\n",
    "sr.loc['좋음'] = 0 # 추가\n",
    "sr2 = sr.drop('좋음') # 삭제\n",
    "\n",
    "print(sr)\n",
    "print(sr2)\n",
    "\n",
    "sr = sr.drop(\"불쾌지수\")\n",
    "print(sr)"
   ]
  },
  {
   "cell_type": "code",
   "execution_count": 52,
   "metadata": {},
   "outputs": [
    {
     "name": "stdout",
     "output_type": "stream",
     "text": [
      "하나    19\n",
      "둘     14\n",
      "셋     12\n",
      "dtype: int64\n"
     ]
    }
   ],
   "source": [
    "import pandas as pd\n",
    "\n",
    "data = [19, 14, 12]\n",
    "index = ['하나', '둘', '셋']\n",
    "\n",
    "s = pd.Series(data, index)\n",
    "print(s)\n",
    "\n",
    "s['둘'] = 22 # index로 접근하여 수정\n",
    "print(s)\n",
    "\n",
    "s.loc['하나'] = 1\n",
    "print(s)"
   ]
  },
  {
   "cell_type": "code",
   "execution_count": 56,
   "metadata": {},
   "outputs": [
    {
     "name": "stdout",
     "output_type": "stream",
     "text": [
      "0    10\n",
      "1    20\n",
      "2    30\n",
      "dtype: int64\n",
      "0    15\n",
      "1    25\n",
      "2    35\n",
      "dtype: int64\n",
      "0     9\n",
      "1    18\n",
      "2    27\n",
      "3    36\n",
      "4    45\n",
      "dtype: int64\n",
      "0    False\n",
      "1    False\n",
      "2    False\n",
      "3     True\n",
      "4     True\n",
      "dtype: bool\n"
     ]
    }
   ],
   "source": [
    "from pandas import Series\n",
    "\n",
    "s = Series([10, 20, 30])\n",
    "print(s)\n",
    "\n",
    "print(s + 5)\n",
    "\n",
    "h = Series([10, 20, 30, 40, 50])\n",
    "l = Series([1, 2, 3, 4, 5])\n",
    "\n",
    "diff = (h - l)\n",
    "print(diff)\n",
    "\n",
    "cond = diff > 30\n",
    "print(cond)"
   ]
  },
  {
   "cell_type": "code",
   "execution_count": 69,
   "metadata": {},
   "outputs": [
    {
     "name": "stdout",
     "output_type": "stream",
     "text": [
      "0    False\n",
      "1     True\n",
      "2     True\n",
      "3     True\n",
      "4    False\n",
      "dtype: bool\n"
     ]
    },
    {
     "data": {
      "text/plain": [
       "1    300\n",
       "2    400\n",
       "3    500\n",
       "dtype: int64"
      ]
     },
     "execution_count": 69,
     "metadata": {},
     "output_type": "execute_result"
    }
   ],
   "source": [
    "# 저가와 고가의 차이가 100 이상인 고가 출력\n",
    "from pandas import Series\n",
    "\n",
    "up = pd.Series([10, 200, 200, 400, 600])\n",
    "dp = pd.Series([100, 300, 400, 500, 600])\n",
    "\n",
    "diff = (dp - up) >= 100\n",
    "\n",
    "print(diff)\n",
    "\n",
    "dp[diff] # True인 dp만 출력"
   ]
  },
  {
   "cell_type": "code",
   "execution_count": 80,
   "metadata": {},
   "outputs": [
    {
     "name": "stdout",
     "output_type": "stream",
     "text": [
      "월     True\n",
      "화     True\n",
      "수    False\n",
      "목    False\n",
      "금    False\n",
      "dtype: bool\n"
     ]
    },
    {
     "data": {
      "text/plain": [
       "Series([], dtype: float64)"
      ]
     },
     "execution_count": 80,
     "metadata": {},
     "output_type": "execute_result"
    }
   ],
   "source": [
    "# 종가가 80000원 이상 90000원 미만의 요일을 출력\n",
    "\n",
    "from pandas import Series\n",
    "\n",
    "data = [80010, 87100, 77800, 99000, 79900]\n",
    "day = ['월', '화', '수', '목', '금']\n",
    "\n",
    "# 종가\n",
    "종가 = pd.Series(data = data, index = day)\n",
    "\n",
    "# 조건\n",
    "cond = (종가 >= 80000) & (종가 < 90000)\n",
    "print(cond)\n",
    "\n",
    "종가[cond].index\n",
    "pd.Series()"
   ]
  },
  {
   "cell_type": "code",
   "execution_count": 85,
   "metadata": {},
   "outputs": [
    {
     "name": "stdout",
     "output_type": "stream",
     "text": [
      "[[0 1]\n",
      " [2 3]]\n",
      "[[3 2]\n",
      " [1 0]]\n",
      "[[1 0]\n",
      " [9 4]]\n"
     ]
    }
   ],
   "source": [
    "import pandas as pd\n",
    "\n",
    "x = np.arange(4).reshape(2, 2)\n",
    "print(x)\n",
    "\n",
    "y = np.arange(3, -1, -1).reshape(2, 2)\n",
    "print(y)\n",
    "\n",
    "s1 = np.matmul(x, y) # 2차원 벡터 곱셉\n",
    "print(s1)"
   ]
  },
  {
   "cell_type": "code",
   "execution_count": 87,
   "metadata": {},
   "outputs": [
    {
     "name": "stdout",
     "output_type": "stream",
     "text": [
      "[[0 1]\n",
      " [2 3]]\n",
      "[[0 1]\n",
      " [2 3]]\n",
      "[[0 1]\n",
      " [4 9]]\n",
      "[[0.         1.        ]\n",
      " [1.41421356 1.73205081]]\n",
      "[[      -inf 0.        ]\n",
      " [0.69314718 1.09861229]]\n"
     ]
    },
    {
     "name": "stderr",
     "output_type": "stream",
     "text": [
      "/usr/local/lib/python3.6/dist-packages/ipykernel_launcher.py:13: RuntimeWarning: divide by zero encountered in log\n",
      "  del sys.path[0]\n"
     ]
    }
   ],
   "source": [
    "x = np.arange(4).reshape(2, 2)\n",
    "print(x)\n",
    "\n",
    "s1 = np.abs(x) # 절대값\n",
    "print(s1)\n",
    "\n",
    "s2 = np.square(x) # 제곱\n",
    "print(s2)\n",
    "\n",
    "s3 = np.sqrt(x) # 제곱근\n",
    "print(s3)\n",
    "\n",
    "s4 = np.log(x) # 로그\n",
    "print(s4)"
   ]
  },
  {
   "cell_type": "code",
   "execution_count": 88,
   "metadata": {},
   "outputs": [
    {
     "name": "stdout",
     "output_type": "stream",
     "text": [
      "[[0 1]\n",
      " [2 3]]\n",
      "[[3 2]\n",
      " [1 0]]\n",
      "[[3 2]\n",
      " [2 3]]\n"
     ]
    }
   ],
   "source": [
    "x = np.arange(4).reshape(2, 2)\n",
    "print(x)\n",
    "\n",
    "y = np.arange(3, -1, -1).reshape(2, 2)\n",
    "print(y)\n",
    "\n",
    "s1 = np.where(x > y, x, y)\n",
    "print(s1)"
   ]
  },
  {
   "cell_type": "code",
   "execution_count": 92,
   "metadata": {},
   "outputs": [
    {
     "name": "stdout",
     "output_type": "stream",
     "text": [
      "    0   1    2   3\n",
      "0  32  68  220  72\n",
      "1  20  30    0  12\n",
      "2  38  81    0  91\n"
     ]
    },
    {
     "data": {
      "text/plain": [
       "68"
      ]
     },
     "execution_count": 92,
     "metadata": {},
     "output_type": "execute_result"
    }
   ],
   "source": [
    "import pandas as pd\n",
    "\n",
    "values = [[32, 68, 220, 72],\n",
    "         [20, 30, 0, 12],\n",
    "         [38, 81, 0, 91]]\n",
    "\n",
    "df = pd.DataFrame(values)\n",
    "\n",
    "print(df)\n",
    "df[0][1]\n",
    "\n",
    "list = [[32, 68, 220, 72],\n",
    "         [20, 30, 0, 12],\n",
    "         [38, 81, 0, 91]]\n",
    "\n",
    "list[0][1]"
   ]
  },
  {
   "cell_type": "code",
   "execution_count": 118,
   "metadata": {},
   "outputs": [
    {
     "name": "stdout",
     "output_type": "stream",
     "text": [
      "     온도  습도  강수량  불쾌지수\n",
      "초여름  32  68  220    72\n",
      "늦봄   20  30    0    12\n",
      "한여름  38  81    0    91\n",
      "초여름    32\n",
      "늦봄     20\n",
      "한여름    38\n",
      "Name: 온도, dtype: int64\n",
      "20\n",
      "\n",
      "\n",
      "온도      20\n",
      "습도      30\n",
      "강수량      0\n",
      "불쾌지수    12\n",
      "Name: 늦봄, dtype: int64\n",
      "    온도  습도  강수량  불쾌지수\n",
      "늦봄  20  30    0    12\n"
     ]
    }
   ],
   "source": [
    "import pandas as pd\n",
    "\n",
    "values = [[32, 68, 220, 72],\n",
    "         [20, 30, 0, 12],\n",
    "         [38, 81, 0, 91]]\n",
    "colums = ['온도', '습도', '강수량', '불쾌지수']\n",
    "index = ['초여름', '늦봄', '한여름']\n",
    "\n",
    "df = pd.DataFrame(values, index, colums)\n",
    "\n",
    "print(df)\n",
    "print(df['온도'])\n",
    "print(df['온도']['늦봄'])\n",
    "\n",
    "print('\\n')\n",
    "\n",
    "print(df.loc['늦봄'])    # loc : index 접근\n",
    "print(df.iloc[[1]])     # iloc : 행번호 접근\n",
    "                        # [] : Series return, [[]] : 행번호 return  "
   ]
  },
  {
   "cell_type": "code",
   "execution_count": 111,
   "metadata": {},
   "outputs": [
    {
     "name": "stdout",
     "output_type": "stream",
     "text": [
      "     온도  습도  강수량  불쾌지수\n",
      "초여름  32  68  220    72\n",
      "늦봄   20  30    0    12\n",
      "한여름  38  81    0    91\n",
      "Index(['초여름', '늦봄', '한여름'], dtype='object')\n",
      "Index(['온도', '습도', '강수량', '불쾌지수'], dtype='object')\n",
      "[[ 32  68 220  72]\n",
      " [ 20  30   0  12]\n",
      " [ 38  81   0  91]]\n"
     ]
    },
    {
     "data": {
      "text/html": [
       "<div>\n",
       "<style scoped>\n",
       "    .dataframe tbody tr th:only-of-type {\n",
       "        vertical-align: middle;\n",
       "    }\n",
       "\n",
       "    .dataframe tbody tr th {\n",
       "        vertical-align: top;\n",
       "    }\n",
       "\n",
       "    .dataframe thead th {\n",
       "        text-align: right;\n",
       "    }\n",
       "</style>\n",
       "<table border=\"1\" class=\"dataframe\">\n",
       "  <thead>\n",
       "    <tr style=\"text-align: right;\">\n",
       "      <th></th>\n",
       "      <th>온도</th>\n",
       "      <th>강수량</th>\n",
       "    </tr>\n",
       "  </thead>\n",
       "  <tbody>\n",
       "    <tr>\n",
       "      <th>초여름</th>\n",
       "      <td>32</td>\n",
       "      <td>220</td>\n",
       "    </tr>\n",
       "    <tr>\n",
       "      <th>늦봄</th>\n",
       "      <td>20</td>\n",
       "      <td>0</td>\n",
       "    </tr>\n",
       "    <tr>\n",
       "      <th>한여름</th>\n",
       "      <td>38</td>\n",
       "      <td>0</td>\n",
       "    </tr>\n",
       "  </tbody>\n",
       "</table>\n",
       "</div>"
      ],
      "text/plain": [
       "     온도  강수량\n",
       "초여름  32  220\n",
       "늦봄   20    0\n",
       "한여름  38    0"
      ]
     },
     "execution_count": 111,
     "metadata": {},
     "output_type": "execute_result"
    }
   ],
   "source": [
    "import pandas as pd\n",
    "\n",
    "values = [[32, 68, 220, 72],\n",
    "         [20, 30, 0, 12],\n",
    "         [38, 81, 0, 91]]\n",
    "colums = ['온도', '습도', '강수량', '불쾌지수']\n",
    "index = ['초여름', '늦봄', '한여름']\n",
    "\n",
    "df = pd.DataFrame(values, index, colums)\n",
    "\n",
    "print(df)\n",
    "print(df.index)\n",
    "print(df.columns)\n",
    "print(df.values)\n",
    "\n",
    "df[['온도', '강수량']]"
   ]
  },
  {
   "cell_type": "code",
   "execution_count": 122,
   "metadata": {},
   "outputs": [
    {
     "data": {
      "text/html": [
       "<div>\n",
       "<style scoped>\n",
       "    .dataframe tbody tr th:only-of-type {\n",
       "        vertical-align: middle;\n",
       "    }\n",
       "\n",
       "    .dataframe tbody tr th {\n",
       "        vertical-align: top;\n",
       "    }\n",
       "\n",
       "    .dataframe thead th {\n",
       "        text-align: right;\n",
       "    }\n",
       "</style>\n",
       "<table border=\"1\" class=\"dataframe\">\n",
       "  <thead>\n",
       "    <tr style=\"text-align: right;\">\n",
       "      <th></th>\n",
       "      <th>온도</th>\n",
       "      <th>습도</th>\n",
       "      <th>강수량</th>\n",
       "      <th>불쾌지수</th>\n",
       "    </tr>\n",
       "  </thead>\n",
       "  <tbody>\n",
       "    <tr>\n",
       "      <th>초여름</th>\n",
       "      <td>32</td>\n",
       "      <td>68</td>\n",
       "      <td>220</td>\n",
       "      <td>72</td>\n",
       "    </tr>\n",
       "    <tr>\n",
       "      <th>늦봄</th>\n",
       "      <td>20</td>\n",
       "      <td>30</td>\n",
       "      <td>0</td>\n",
       "      <td>12</td>\n",
       "    </tr>\n",
       "  </tbody>\n",
       "</table>\n",
       "</div>"
      ],
      "text/plain": [
       "     온도  습도  강수량  불쾌지수\n",
       "초여름  32  68  220    72\n",
       "늦봄   20  30    0    12"
      ]
     },
     "execution_count": 122,
     "metadata": {},
     "output_type": "execute_result"
    }
   ],
   "source": [
    "df.iloc[[0, 1]]\n",
    "df.loc[['초여름', '늦봄']]"
   ]
  },
  {
   "cell_type": "code",
   "execution_count": 123,
   "metadata": {},
   "outputs": [
    {
     "data": {
      "text/html": [
       "<div>\n",
       "<style scoped>\n",
       "    .dataframe tbody tr th:only-of-type {\n",
       "        vertical-align: middle;\n",
       "    }\n",
       "\n",
       "    .dataframe tbody tr th {\n",
       "        vertical-align: top;\n",
       "    }\n",
       "\n",
       "    .dataframe thead th {\n",
       "        text-align: right;\n",
       "    }\n",
       "</style>\n",
       "<table border=\"1\" class=\"dataframe\">\n",
       "  <thead>\n",
       "    <tr style=\"text-align: right;\">\n",
       "      <th></th>\n",
       "      <th>온도</th>\n",
       "      <th>습도</th>\n",
       "      <th>강수량</th>\n",
       "      <th>불쾌지수</th>\n",
       "    </tr>\n",
       "  </thead>\n",
       "  <tbody>\n",
       "    <tr>\n",
       "      <th>초여름</th>\n",
       "      <td>32</td>\n",
       "      <td>68</td>\n",
       "      <td>220</td>\n",
       "      <td>72</td>\n",
       "    </tr>\n",
       "    <tr>\n",
       "      <th>늦봄</th>\n",
       "      <td>20</td>\n",
       "      <td>30</td>\n",
       "      <td>0</td>\n",
       "      <td>12</td>\n",
       "    </tr>\n",
       "  </tbody>\n",
       "</table>\n",
       "</div>"
      ],
      "text/plain": [
       "     온도  습도  강수량  불쾌지수\n",
       "초여름  32  68  220    72\n",
       "늦봄   20  30    0    12"
      ]
     },
     "execution_count": 123,
     "metadata": {},
     "output_type": "execute_result"
    }
   ],
   "source": [
    "df.iloc[0:2]"
   ]
  },
  {
   "cell_type": "code",
   "execution_count": 124,
   "metadata": {},
   "outputs": [
    {
     "data": {
      "text/html": [
       "<div>\n",
       "<style scoped>\n",
       "    .dataframe tbody tr th:only-of-type {\n",
       "        vertical-align: middle;\n",
       "    }\n",
       "\n",
       "    .dataframe tbody tr th {\n",
       "        vertical-align: top;\n",
       "    }\n",
       "\n",
       "    .dataframe thead th {\n",
       "        text-align: right;\n",
       "    }\n",
       "</style>\n",
       "<table border=\"1\" class=\"dataframe\">\n",
       "  <thead>\n",
       "    <tr style=\"text-align: right;\">\n",
       "      <th></th>\n",
       "      <th>온도</th>\n",
       "      <th>습도</th>\n",
       "      <th>강수량</th>\n",
       "      <th>불쾌지수</th>\n",
       "    </tr>\n",
       "  </thead>\n",
       "  <tbody>\n",
       "    <tr>\n",
       "      <th>초여름</th>\n",
       "      <td>32</td>\n",
       "      <td>68</td>\n",
       "      <td>220</td>\n",
       "      <td>72</td>\n",
       "    </tr>\n",
       "    <tr>\n",
       "      <th>늦봄</th>\n",
       "      <td>20</td>\n",
       "      <td>30</td>\n",
       "      <td>0</td>\n",
       "      <td>12</td>\n",
       "    </tr>\n",
       "  </tbody>\n",
       "</table>\n",
       "</div>"
      ],
      "text/plain": [
       "     온도  습도  강수량  불쾌지수\n",
       "초여름  32  68  220    72\n",
       "늦봄   20  30    0    12"
      ]
     },
     "execution_count": 124,
     "metadata": {},
     "output_type": "execute_result"
    }
   ],
   "source": [
    "df.loc['초여름':'늦봄']"
   ]
  },
  {
   "cell_type": "code",
   "execution_count": 127,
   "metadata": {},
   "outputs": [
    {
     "name": "stdout",
     "output_type": "stream",
     "text": [
      "32\n",
      "초여름    32\n",
      "늦봄     20\n",
      "한여름    38\n",
      "Name: 온도, dtype: int64\n",
      "     습도  강수량\n",
      "초여름  68  220\n",
      "늦봄   30    0\n",
      "한여름  81    0\n"
     ]
    }
   ],
   "source": [
    "print(df.loc['초여름', '온도'])    # index : 행 x 열\n",
    "print(df.loc[:, '온도'])          # 전체 행에서 온도만 출력\n",
    "print(df.loc[:, '습도':'강수량']) "
   ]
  },
  {
   "cell_type": "code",
   "execution_count": 135,
   "metadata": {},
   "outputs": [
    {
     "name": "stdout",
     "output_type": "stream",
     "text": [
      "     온도  습도  강수량  불쾌지수\n",
      "초여름  32  68  220    72\n",
      "한여름  38  81    0    91\n"
     ]
    },
    {
     "data": {
      "text/plain": [
       "온도       32\n",
       "습도       68\n",
       "강수량     220\n",
       "불쾌지수     72\n",
       "Name: 초여름, dtype: int64"
      ]
     },
     "execution_count": 135,
     "metadata": {},
     "output_type": "execute_result"
    }
   ],
   "source": [
    "# 온도가 30도 이상인 모든 행 출력\n",
    "\n",
    "import pandas as pd\n",
    "\n",
    "values = [[32, 68, 220, 72],\n",
    "         [20, 30, 0, 12],\n",
    "         [38, 81, 0, 91]]\n",
    "colums = ['온도', '습도', '강수량', '불쾌지수']\n",
    "index = ['초여름', '늦봄', '한여름']\n",
    "\n",
    "cond = df['온도'] >= 30\n",
    "print(df[cond])\n",
    "\n",
    "# df['초여름'] --> 행은 접근 불가능 \n",
    "df.loc['초여름'] --> 행에 접근하려면 loc 사용"
   ]
  },
  {
   "cell_type": "code",
   "execution_count": null,
   "metadata": {},
   "outputs": [],
   "source": []
  }
 ],
 "metadata": {
  "kernelspec": {
   "display_name": "Python 3",
   "language": "python",
   "name": "python3"
  },
  "language_info": {
   "codemirror_mode": {
    "name": "ipython",
    "version": 3
   },
   "file_extension": ".py",
   "mimetype": "text/x-python",
   "name": "python",
   "nbconvert_exporter": "python",
   "pygments_lexer": "ipython3",
   "version": "3.6.9"
  }
 },
 "nbformat": 4,
 "nbformat_minor": 4
}
