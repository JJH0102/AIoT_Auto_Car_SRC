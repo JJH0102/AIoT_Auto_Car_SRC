{
 "cells": [
  {
   "cell_type": "code",
   "execution_count": 1,
   "metadata": {},
   "outputs": [],
   "source": [
    "from pop import AI\n",
    "\n",
    "ANN = AI.ANN(input_size = 3, output_size = 3)"
   ]
  },
  {
   "cell_type": "code",
   "execution_count": 2,
   "metadata": {},
   "outputs": [],
   "source": [
    "# 키, 발사이즈, 머리카락 길이\n",
    "ANN.X_data = [[73, 90, 1], [62, 70, 0], [83, 100, 2], [110, 150, 7], [139, 220, 15], \n",
    "              [123, 190, 10], [177, 275, 7], [159, 240, 35], [180, 280, 15]]\n",
    "\n",
    "# 유아, 어린이, 성인\n",
    "ANN.Y_data = [[1, 0, 0], [1, 0, 0], [1, 0, 0], [0, 1, 0], [0, 1, 0], [0, 1, 0], \n",
    "              [0, 0, 1], [0, 0, 1], [0, 0, 1]]"
   ]
  },
  {
   "cell_type": "code",
   "execution_count": 3,
   "metadata": {},
   "outputs": [
    {
     "name": "stdout",
     "output_type": "stream",
     "text": [
      "10 step loss: 8.582612991333008\n",
      "20 step loss: 5.999063014984131\n",
      "30 step loss: 3.170806884765625\n",
      "40 step loss: 1.7048730850219727\n",
      "50 step loss: 1.0886995792388916\n",
      "60 step loss: 0.8003511428833008\n",
      "70 step loss: 0.6715382933616638\n",
      "80 step loss: 0.5493010878562927\n",
      "90 step loss: 0.46760809421539307\n",
      "100 step loss: 0.4171265661716461\n",
      "Training is done.\n",
      "Time spent: 14.2 s\n",
      "Training speed: 7.0 step/s\n"
     ]
    }
   ],
   "source": [
    "ANN.train()"
   ]
  },
  {
   "cell_type": "code",
   "execution_count": 4,
   "metadata": {},
   "outputs": [
    {
     "name": "stdout",
     "output_type": "stream",
     "text": [
      "run with :  [[ 73  90   1]\n",
      " [ 62  70   0]\n",
      " [ 83 100   2]\n",
      " [110 150   7]\n",
      " [139 220  15]\n",
      " [123 190  10]\n",
      " [177 275   7]\n",
      " [159 240  35]\n",
      " [180 280  15]]\n"
     ]
    },
    {
     "data": {
      "text/plain": [
       "array([[9.0979123e-01, 4.3259446e-02, 4.6949353e-02],\n",
       "       [9.7933382e-01, 9.8925466e-03, 1.0773647e-02],\n",
       "       [9.3555999e-01, 2.2637259e-02, 4.1802760e-02],\n",
       "       [1.0428437e-01, 3.1723279e-01, 5.7848281e-01],\n",
       "       [7.1992476e-06, 6.0271788e-01, 3.9727497e-01],\n",
       "       [2.6421584e-04, 6.0555881e-01, 3.9417696e-01],\n",
       "       [3.4215220e-05, 4.4012141e-01, 5.5984437e-01],\n",
       "       [4.3086573e-08, 2.6193005e-01, 7.3806995e-01],\n",
       "       [2.0008740e-06, 3.9255798e-01, 6.0743999e-01]], dtype=float32)"
      ]
     },
     "execution_count": 4,
     "metadata": {},
     "output_type": "execute_result"
    }
   ],
   "source": [
    "ANN.run()"
   ]
  },
  {
   "cell_type": "code",
   "execution_count": 5,
   "metadata": {},
   "outputs": [
    {
     "name": "stdout",
     "output_type": "stream",
     "text": [
      "200 step loss: 0.29433876276016235\n",
      "300 step loss: 0.286869078874588\n",
      "400 step loss: 0.23326677083969116\n",
      "500 step loss: 0.1960783749818802\n",
      "600 step loss: 0.16333556175231934\n",
      "700 step loss: 0.13525766134262085\n",
      "800 step loss: 0.11136145144701004\n",
      "900 step loss: 0.09161775559186935\n",
      "1000 step loss: 0.07698474079370499\n",
      "1100 step loss: 0.06504997611045837\n",
      "Training is done.\n",
      "Time spent: 5.7 s\n",
      "Training speed: 174.6 step/s\n"
     ]
    }
   ],
   "source": [
    "ANN.train(times = 1000, print_every = 100)"
   ]
  },
  {
   "cell_type": "code",
   "execution_count": 6,
   "metadata": {},
   "outputs": [
    {
     "name": "stdout",
     "output_type": "stream",
     "text": [
      "run with :  [[ 73  90   1]\n",
      " [ 62  70   0]\n",
      " [ 83 100   2]\n",
      " [110 150   7]\n",
      " [139 220  15]\n",
      " [123 190  10]\n",
      " [177 275   7]\n",
      " [159 240  35]\n",
      " [180 280  15]]\n"
     ]
    },
    {
     "data": {
      "text/plain": [
       "array([[9.87217724e-01, 1.27712209e-02, 1.10957708e-05],\n",
       "       [9.99411464e-01, 5.88335795e-04, 1.94903151e-07],\n",
       "       [9.95596468e-01, 4.38790582e-03, 1.56233582e-05],\n",
       "       [1.14499955e-02, 9.48236465e-01, 4.03135195e-02],\n",
       "       [1.44500332e-11, 7.97068000e-01, 2.02932075e-01],\n",
       "       [3.00872038e-08, 9.50329065e-01, 4.96708862e-02],\n",
       "       [1.47463999e-10, 1.09302536e-01, 8.90697420e-01],\n",
       "       [2.64736955e-17, 6.48135394e-02, 9.35186505e-01],\n",
       "       [1.49656275e-13, 5.15503511e-02, 9.48449612e-01]], dtype=float32)"
      ]
     },
     "execution_count": 6,
     "metadata": {},
     "output_type": "execute_result"
    }
   ],
   "source": [
    "ANN.run()"
   ]
  },
  {
   "cell_type": "code",
   "execution_count": 7,
   "metadata": {},
   "outputs": [
    {
     "data": {
      "text/plain": [
       "array([[2.8298209e-11, 1.1642454e-01, 8.8357544e-01],\n",
       "       [9.6812582e-01, 3.1869959e-02, 4.1801154e-06],\n",
       "       [1.0224485e-09, 8.1862974e-01, 1.8137023e-01]], dtype=float32)"
      ]
     },
     "execution_count": 7,
     "metadata": {},
     "output_type": "execute_result"
    }
   ],
   "source": [
    "ANN.run([[174, 270, 10], [57, 70, 1], [140, 220, 10]])"
   ]
  },
  {
   "cell_type": "code",
   "execution_count": 8,
   "metadata": {},
   "outputs": [
    {
     "name": "stdout",
     "output_type": "stream",
     "text": [
      "11100 step loss: 1.9139301002724096e-05\n",
      "21100 step loss: 6.622737913630772e-08\n",
      "31100 step loss: 2.1192755639276584e-07\n",
      "41100 step loss: 5.2981899756332496e-08\n",
      "51100 step loss: 6.755184926987567e-07\n",
      "61100 step loss: 1.8543660473824275e-07\n",
      "71100 step loss: 1.3245475827261544e-08\n",
      "81100 step loss: 1.390770648868056e-06\n",
      "91100 step loss: 5.2981903309046174e-08\n",
      "101100 step loss: 2.2252288545132615e-06\n",
      "Training is done.\n",
      "Time spent: 461.6 s\n",
      "Training speed: 216.6 step/s\n"
     ]
    }
   ],
   "source": [
    "ANN.train(times = 100000, print_every = 10000)"
   ]
  },
  {
   "cell_type": "code",
   "execution_count": null,
   "metadata": {},
   "outputs": [],
   "source": [
    "ANN.run([[140, 220, 10], [140, 200, 11]])"
   ]
  }
 ],
 "metadata": {
  "kernelspec": {
   "display_name": "Python 3",
   "language": "python",
   "name": "python3"
  },
  "language_info": {
   "codemirror_mode": {
    "name": "ipython",
    "version": 3
   },
   "file_extension": ".py",
   "mimetype": "text/x-python",
   "name": "python",
   "nbconvert_exporter": "python",
   "pygments_lexer": "ipython3",
   "version": "3.6.9"
  }
 },
 "nbformat": 4,
 "nbformat_minor": 4
}
