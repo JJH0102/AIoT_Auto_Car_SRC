{
 "cells": [
  {
   "cell_type": "code",
   "execution_count": 2,
   "metadata": {},
   "outputs": [],
   "source": [
    "from pop import Pilot\n",
    "import numpy as np\n",
    "import time"
   ]
  },
  {
   "cell_type": "code",
   "execution_count": 3,
   "metadata": {},
   "outputs": [],
   "source": [
    "Car = Pilot.AutoCar()\n",
    "Car.correctError(-0.1206646)"
   ]
  },
  {
   "cell_type": "code",
   "execution_count": 18,
   "metadata": {},
   "outputs": [
    {
     "name": "stdout",
     "output_type": "stream",
     "text": [
      "{'gyro': -201, 'steer': 1.0}\n",
      "{'gyro': -176, 'steer': 0.8}\n",
      "{'gyro': -186, 'steer': 0.6}\n",
      "{'gyro': -178, 'steer': 0.4}\n",
      "{'gyro': -175, 'steer': 0.2}\n",
      "{'gyro': -188, 'steer': -0.2}\n",
      "{'gyro': -166, 'steer': -0.4}\n",
      "{'gyro': -217, 'steer': -0.6}\n",
      "{'gyro': -160, 'steer': -0.8}\n",
      "{'gyro': -229, 'steer': -1.0}\n"
     ]
    }
   ],
   "source": [
    "dataset = {'gyro':[], 'steer':[]}\n",
    "\n",
    "for n in np.arange(-1, 1.1, 0.2):\n",
    "    n = round(n, 1)\n",
    "    \n",
    "    if n == 0.0:\n",
    "        continue\n",
    "        \n",
    "    Car.steering = n\n",
    "    Car.forward(50)\n",
    "    time.sleep(0.5)\n",
    "    \n",
    "    m = Car.getGyro('z')\n",
    "    time.sleep(0.5)\n",
    "    \n",
    "    Car.backward(50)\n",
    "    time.sleep(1)\n",
    "    \n",
    "    Car.stop()\n",
    "    \n",
    "    n = -n   # 조향 제어값을 반전해서 저장\n",
    "    \n",
    "    dataset['gyro'].append(m)\n",
    "    dataset['steer'].append(n)\n",
    "    \n",
    "    print({'gyro': m, 'steer': n})"
   ]
  },
  {
   "cell_type": "code",
   "execution_count": 19,
   "metadata": {},
   "outputs": [
    {
     "name": "stdout",
     "output_type": "stream",
     "text": [
      "100 step loss: 0.2120889127254486\n",
      "200 step loss: 0.2052122801542282\n",
      "300 step loss: 0.20494508743286133\n",
      "400 step loss: 0.20466800034046173\n",
      "500 step loss: 0.20438024401664734\n",
      "600 step loss: 0.2040816843509674\n",
      "700 step loss: 0.2037721872329712\n",
      "800 step loss: 0.20345142483711243\n",
      "900 step loss: 0.20311932265758514\n",
      "1000 step loss: 0.2027757465839386\n",
      "1100 step loss: 0.20242056250572205\n",
      "1200 step loss: 0.2020537108182907\n",
      "1300 step loss: 0.2016751766204834\n",
      "1400 step loss: 0.2012849748134613\n",
      "1500 step loss: 0.20088307559490204\n",
      "1600 step loss: 0.20046964287757874\n",
      "1700 step loss: 0.20004472136497498\n",
      "1800 step loss: 0.19960860908031464\n",
      "1900 step loss: 0.19916149973869324\n",
      "2000 step loss: 0.19870372116565704\n",
      "2100 step loss: 0.1982356607913971\n",
      "2200 step loss: 0.197757750749588\n",
      "2300 step loss: 0.19727054238319397\n",
      "2400 step loss: 0.1967746466398239\n",
      "2500 step loss: 0.19627070426940918\n",
      "2600 step loss: 0.19575950503349304\n",
      "2700 step loss: 0.19524185359477997\n",
      "2800 step loss: 0.19471879303455353\n",
      "2900 step loss: 0.19419117271900177\n",
      "3000 step loss: 0.1936602145433426\n",
      "3100 step loss: 0.19312705099582672\n",
      "3200 step loss: 0.19259290397167206\n",
      "3300 step loss: 0.19205914437770844\n",
      "3400 step loss: 0.19152714312076569\n",
      "3500 step loss: 0.190998375415802\n",
      "3600 step loss: 0.1904742568731308\n",
      "3700 step loss: 0.18995638191699982\n",
      "3800 step loss: 0.18944628536701202\n",
      "3900 step loss: 0.18894554674625397\n",
      "4000 step loss: 0.18845567107200623\n",
      "4100 step loss: 0.18797823786735535\n",
      "4200 step loss: 0.1875147670507431\n",
      "4300 step loss: 0.18706661462783813\n",
      "4400 step loss: 0.18663518130779266\n",
      "4500 step loss: 0.18622168898582458\n",
      "4600 step loss: 0.1858273297548294\n",
      "4700 step loss: 0.18545308709144592\n",
      "4800 step loss: 0.1850997507572174\n",
      "4900 step loss: 0.18476802110671997\n",
      "5000 step loss: 0.184458389878273\n",
      "Training is done.\n",
      "Time spent: 22.5 s\n",
      "Training speed: 221.8 step/s\n"
     ]
    }
   ],
   "source": [
    "from pop import AI\n",
    "\n",
    "LR = AI.Linear_Regression()\n",
    "LR.X_data = dataset['gyro']\n",
    "LR.Y_data = dataset['steer']\n",
    "\n",
    "LR.train(times = 5000, print_every = 100)"
   ]
  },
  {
   "cell_type": "code",
   "execution_count": 20,
   "metadata": {},
   "outputs": [
    {
     "name": "stdin",
     "output_type": "stream",
     "text": [
      " q\n"
     ]
    }
   ],
   "source": [
    "Car.forward(50)\n",
    "\n",
    "while True:\n",
    "    if 'q' == input():\n",
    "        break\n",
    "        \n",
    "    err = Car.getGyro('z')\n",
    "    value = LR.run([err])\n",
    "    \n",
    "    Car.steering = value / 3  # 핸들이 크게 움직여서 제어하기 힘들기 때문에 3으로 나누기\n",
    "    time.sleep(0.1)\n",
    "    \n",
    "Car.stop()"
   ]
  },
  {
   "cell_type": "code",
   "execution_count": null,
   "metadata": {},
   "outputs": [],
   "source": []
  }
 ],
 "metadata": {
  "kernelspec": {
   "display_name": "Python 3",
   "language": "python",
   "name": "python3"
  },
  "language_info": {
   "codemirror_mode": {
    "name": "ipython",
    "version": 3
   },
   "file_extension": ".py",
   "mimetype": "text/x-python",
   "name": "python",
   "nbconvert_exporter": "python",
   "pygments_lexer": "ipython3",
   "version": "3.6.9"
  }
 },
 "nbformat": 4,
 "nbformat_minor": 4
}
