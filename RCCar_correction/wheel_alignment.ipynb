{
 "cells": [
  {
   "cell_type": "code",
   "execution_count": 2,
   "metadata": {},
   "outputs": [],
   "source": [
    "from pop import Pilot\n",
    "import numpy as np\n",
    "import time\n",
    "\n",
    "Car = Pilot.AutoCar()"
   ]
  },
  {
   "cell_type": "code",
   "execution_count": 3,
   "metadata": {},
   "outputs": [
    {
     "name": "stdout",
     "output_type": "stream",
     "text": [
      "{'gyro': 461, 'steer': -1.0}\n",
      "{'gyro': 979, 'steer': -0.8}\n",
      "{'gyro': 634, 'steer': -0.6}\n",
      "{'gyro': 306, 'steer': -0.4}\n",
      "{'gyro': -149, 'steer': -0.2}\n",
      "{'gyro': -468, 'steer': -0.0}\n",
      "{'gyro': -692, 'steer': 0.2}\n",
      "{'gyro': -1200, 'steer': 0.4}\n",
      "{'gyro': -1583, 'steer': 0.6}\n",
      "{'gyro': -2026, 'steer': 0.8}\n",
      "{'gyro': -2346, 'steer': 1.0}\n"
     ]
    }
   ],
   "source": [
    "dataset = {'gyro':[], 'steer':[]}\n",
    "\n",
    "for n in np.arange(-1, 1.1, 0.2):\n",
    "    n = round(n, 1)  # 소수 한 자리만 출력\n",
    "    \n",
    "    Car.steering = n\n",
    "    Car.forward(50)\n",
    "    time.sleep(0.5)\n",
    "    \n",
    "    m = Car.getGyro('z')\n",
    "    time.sleep(0.5)\n",
    "    \n",
    "    Car.backward(50)\n",
    "    time.sleep(1)\n",
    "    \n",
    "    Car.stop()\n",
    "    \n",
    "    dataset['gyro'].append(m)\n",
    "    dataset['steer'].append(n)\n",
    "    \n",
    "    print({'gyro': m, 'steer': n})"
   ]
  },
  {
   "cell_type": "code",
   "execution_count": 22,
   "metadata": {},
   "outputs": [
    {
     "name": "stdout",
     "output_type": "stream",
     "text": [
      "100 step loss: 0.38160350918769836\n",
      "200 step loss: 0.17114973068237305\n",
      "300 step loss: 0.17114080488681793\n",
      "400 step loss: 0.17113162577152252\n",
      "500 step loss: 0.1711220145225525\n",
      "600 step loss: 0.17111200094223022\n",
      "700 step loss: 0.17110151052474976\n",
      "800 step loss: 0.17109058797359467\n",
      "900 step loss: 0.17107918858528137\n",
      "1000 step loss: 0.17106732726097107\n",
      "1100 step loss: 0.1710549145936966\n",
      "1200 step loss: 0.17104199528694153\n",
      "1300 step loss: 0.17102855443954468\n",
      "1400 step loss: 0.17101454734802246\n",
      "1500 step loss: 0.17099995911121368\n",
      "1600 step loss: 0.17098483443260193\n",
      "1700 step loss: 0.17096909880638123\n",
      "1800 step loss: 0.17095273733139038\n",
      "1900 step loss: 0.1709357649087906\n",
      "2000 step loss: 0.17091813683509827\n",
      "2100 step loss: 0.1708998829126358\n",
      "2200 step loss: 0.1708809733390808\n",
      "2300 step loss: 0.1708613783121109\n",
      "2400 step loss: 0.17084115743637085\n",
      "2500 step loss: 0.1708202362060547\n",
      "2600 step loss: 0.17079861462116241\n",
      "2700 step loss: 0.17077630758285522\n",
      "2800 step loss: 0.1707533448934555\n",
      "2900 step loss: 0.17072969675064087\n",
      "3000 step loss: 0.17070536315441132\n",
      "3100 step loss: 0.17068035900592804\n",
      "3200 step loss: 0.17065474390983582\n",
      "3300 step loss: 0.17062847316265106\n",
      "3400 step loss: 0.17060159146785736\n",
      "3500 step loss: 0.1705740988254547\n",
      "3600 step loss: 0.1705460250377655\n",
      "3700 step loss: 0.1705174744129181\n",
      "3800 step loss: 0.1704883724451065\n",
      "3900 step loss: 0.1704588532447815\n",
      "4000 step loss: 0.17042890191078186\n",
      "4100 step loss: 0.17039860785007477\n",
      "4200 step loss: 0.1703680157661438\n",
      "4300 step loss: 0.17033715546131134\n",
      "4400 step loss: 0.17030613124370575\n",
      "4500 step loss: 0.170275017619133\n",
      "4600 step loss: 0.17024382948875427\n",
      "4700 step loss: 0.1702127307653427\n",
      "4800 step loss: 0.1701817512512207\n",
      "4900 step loss: 0.1701509654521942\n",
      "5000 step loss: 0.170120507478714\n",
      "Training is done.\n",
      "Time spent: 21.1 s\n",
      "Training speed: 236.4 step/s\n"
     ]
    }
   ],
   "source": [
    "from pop import AI\n",
    "\n",
    "LR = AI.Linear_Regression()\n",
    "LR.X_data = dataset['gyro']\n",
    "LR.Y_data = dataset['steer']\n",
    "\n",
    "LR.train(times = 5000, print_every = 100)"
   ]
  },
  {
   "cell_type": "code",
   "execution_count": 23,
   "metadata": {},
   "outputs": [
    {
     "name": "stdout",
     "output_type": "stream",
     "text": [
      "[[-0.6225624]]\n"
     ]
    }
   ],
   "source": [
    "value = LR.run([0])\n",
    "print(value)"
   ]
  },
  {
   "cell_type": "code",
   "execution_count": 24,
   "metadata": {},
   "outputs": [],
   "source": [
    "Car.steering = value[0]\n",
    "Car.forward()"
   ]
  },
  {
   "cell_type": "code",
   "execution_count": 25,
   "metadata": {},
   "outputs": [],
   "source": [
    "Car.stop()"
   ]
  },
  {
   "cell_type": "code",
   "execution_count": null,
   "metadata": {},
   "outputs": [],
   "source": []
  }
 ],
 "metadata": {
  "kernelspec": {
   "display_name": "Python 3",
   "language": "python",
   "name": "python3"
  },
  "language_info": {
   "codemirror_mode": {
    "name": "ipython",
    "version": 3
   },
   "file_extension": ".py",
   "mimetype": "text/x-python",
   "name": "python",
   "nbconvert_exporter": "python",
   "pygments_lexer": "ipython3",
   "version": "3.6.9"
  }
 },
 "nbformat": 4,
 "nbformat_minor": 4
}
