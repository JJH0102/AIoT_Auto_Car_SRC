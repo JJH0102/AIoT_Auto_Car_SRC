{
 "cells": [
  {
   "cell_type": "code",
   "execution_count": 8,
   "id": "a6a2e6ee-d90a-404f-862b-118dea69d656",
   "metadata": {},
   "outputs": [
    {
     "name": "stdout",
     "output_type": "stream",
     "text": [
      "[10, 20, 30, 40]\n"
     ]
    }
   ],
   "source": [
    "data = [1, 2, 3, 4]\n",
    "result = []\n",
    "result2 = []\n",
    "\n",
    "for i in data:\n",
    "    result2.append(i * 10)\n",
    "    \n",
    "print(result2)"
   ]
  },
  {
   "cell_type": "code",
   "execution_count": null,
   "id": "31558c77-5b8e-4466-bbf2-2790b16a05fd",
   "metadata": {},
   "outputs": [],
   "source": [
    "import numpy as np\n",
    "\n",
    "arr = np.array([1, 2, 3, 4])\n",
    "arr = arr * 10\n",
    "\n",
    "print(arr)"
   ]
  },
  {
   "cell_type": "code",
   "execution_count": null,
   "id": "a83fcd36-9f16-44de-9e6e-f84615d45ded",
   "metadata": {},
   "outputs": [],
   "source": [
    "import numpy as np\n",
    "\n",
    "arr = np.array([1, 2, 3]) # python list type을 numpy의 ndarray 형식으로 생성\n",
    "\n",
    "print(type(arr))"
   ]
  },
  {
   "cell_type": "code",
   "execution_count": 11,
   "id": "b3ce67bb-79fe-43c7-8c13-005405655cca",
   "metadata": {},
   "outputs": [
    {
     "name": "stdout",
     "output_type": "stream",
     "text": [
      "2\n"
     ]
    }
   ],
   "source": [
    "import numpy as np\n",
    "\n",
    "arr = np.array([[1, 2, 3], [4, 5, 6]])\n",
    "\n",
    "print(arr.ndim) # 차원 출력 -> 2차원 배열이므로 '2' 출력\n",
    "print(arr.shape) # 배열 구조 출력"
   ]
  },
  {
   "cell_type": "code",
   "execution_count": 13,
   "id": "d4d8c289-53ad-4064-ab41-e678678b4f1e",
   "metadata": {},
   "outputs": [
    {
     "name": "stdout",
     "output_type": "stream",
     "text": [
      "[0 1 2 3 4]\n"
     ]
    }
   ],
   "source": [
    "import numpy as np\n",
    "\n",
    "arr = np.arange(5)\n",
    "print(arr)\n",
    "\n",
    "arr = np.arange(5, 15, 2) # 5 ~ 14까지 2씩 증가\n",
    "print(arr)\n",
    "\n",
    "arr1 = np.arange(5, 10) # 5 ~ 9까지 1씩 증가\n",
    "print(arr1)"
   ]
  },
  {
   "cell_type": "code",
   "execution_count": null,
   "id": "783ab860-ca2f-4f6b-b619-4aabf4a92a6d",
   "metadata": {},
   "outputs": [],
   "source": [
    "np.array # 함수 원형 확인 shift + Tab"
   ]
  },
  {
   "cell_type": "code",
   "execution_count": 15,
   "id": "56c31fe7-6bff-4db8-bbc1-9a149fc7e06d",
   "metadata": {},
   "outputs": [
    {
     "name": "stdout",
     "output_type": "stream",
     "text": [
      "[0. 0. 0. 0. 0.]\n"
     ]
    }
   ],
   "source": [
    "arr = np.zeros(5)  # numpy의 ndarray를 0으로 초기화하여 생성\n",
    "print(arr)"
   ]
  },
  {
   "cell_type": "code",
   "execution_count": 23,
   "id": "a1fd045c-a18e-4780-9f2c-add7457d3264",
   "metadata": {},
   "outputs": [
    {
     "name": "stdout",
     "output_type": "stream",
     "text": [
      "[[0. 0. 0. 0. 0.]\n",
      " [0. 0. 0. 0. 0.]]\n",
      "2\n",
      "\n",
      "\n",
      "[[[0. 0.]\n",
      "  [0. 0.]]\n",
      "\n",
      " [[0. 0.]\n",
      "  [0. 0.]]]\n",
      "3\n"
     ]
    }
   ],
   "source": [
    "arr = np.zeros((2, 5)) # 2 x 5 형태의 ndarray 생성\n",
    "print(arr)\n",
    "print(arr.ndim)\n",
    "\n",
    "print('\\n')\n",
    "\n",
    "arr = np.zeros((2, 2, 2)) # 2 x 2 x 2 형태의 ndarray 생성\n",
    "print(arr)\n",
    "print(arr.ndim)"
   ]
  },
  {
   "cell_type": "code",
   "execution_count": 24,
   "id": "419a1cac-f633-4353-b3ba-9e5759edf124",
   "metadata": {},
   "outputs": [
    {
     "name": "stdout",
     "output_type": "stream",
     "text": [
      "[1. 1. 1. 1. 1.]\n",
      "\n",
      "\n",
      "[[1. 1. 1.]\n",
      " [1. 1. 1.]]\n"
     ]
    }
   ],
   "source": [
    "arr = np.ones(5)\n",
    "print(arr)\n",
    "\n",
    "print('\\n')\n",
    "\n",
    "arr = np.ones((2, 3))\n",
    "print(arr)"
   ]
  },
  {
   "cell_type": "code",
   "execution_count": 26,
   "id": "c4642e9d-a1f8-469c-a6e2-e9ded62d6847",
   "metadata": {},
   "outputs": [
    {
     "name": "stdout",
     "output_type": "stream",
     "text": [
      "[2 2 2 2 2]\n",
      "\n",
      "\n",
      "[[-1 -1 -1]\n",
      " [-1 -1 -1]]\n"
     ]
    }
   ],
   "source": [
    "arr = np.full(5, 2) # 0, 1을 제외한 수를 초기화 할 때 full 사용\n",
    "print(arr)\n",
    "\n",
    "print('\\n')\n",
    "\n",
    "arr = np.full((2, 3), -1)\n",
    "print(arr)"
   ]
  },
  {
   "cell_type": "code",
   "execution_count": 27,
   "id": "1a3786ca-1a0f-4aa8-b881-21317e18e149",
   "metadata": {},
   "outputs": [
    {
     "name": "stdout",
     "output_type": "stream",
     "text": [
      "[[1. 0. 0. 0. 0.]\n",
      " [0. 1. 0. 0. 0.]\n",
      " [0. 0. 1. 0. 0.]\n",
      " [0. 0. 0. 1. 0.]\n",
      " [0. 0. 0. 0. 1.]]\n"
     ]
    }
   ],
   "source": [
    "arr = np.eye(5)\n",
    "print(arr)"
   ]
  },
  {
   "cell_type": "code",
   "execution_count": 30,
   "id": "66669ec0-91ec-4c0d-989b-c4fd7f292c24",
   "metadata": {},
   "outputs": [
    {
     "name": "stdout",
     "output_type": "stream",
     "text": [
      "[0.04364843 0.97441015 0.23850292 0.60599822 0.42044599]\n",
      "\n",
      "\n",
      "[[0.53749008 0.37325703]\n",
      " [0.90820201 0.27302308]]\n"
     ]
    }
   ],
   "source": [
    "import numpy as np\n",
    "\n",
    "arr = np.random.random(5) # 실수 형태의 ndarray 반환\n",
    "print(arr)\n",
    "\n",
    "print('\\n')\n",
    "\n",
    "arr = np.random.random((2, 2))\n",
    "print(arr)"
   ]
  },
  {
   "cell_type": "code",
   "execution_count": null,
   "id": "a257b220-35a3-4a38-9cd3-db035f2445a3",
   "metadata": {},
   "outputs": [],
   "source": []
  }
 ],
 "metadata": {
  "kernelspec": {
   "display_name": "venvK",
   "language": "python",
   "name": "venv"
  },
  "language_info": {
   "codemirror_mode": {
    "name": "ipython",
    "version": 3
   },
   "file_extension": ".py",
   "mimetype": "text/x-python",
   "name": "python",
   "nbconvert_exporter": "python",
   "pygments_lexer": "ipython3",
   "version": "3.11.9"
  }
 },
 "nbformat": 4,
 "nbformat_minor": 5
}
