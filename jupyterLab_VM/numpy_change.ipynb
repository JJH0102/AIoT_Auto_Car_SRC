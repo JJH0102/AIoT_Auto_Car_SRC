{
 "cells": [
  {
   "cell_type": "code",
   "execution_count": 2,
   "id": "39a84acc-4452-434f-a0ca-64acd9204b4b",
   "metadata": {},
   "outputs": [
    {
     "name": "stdout",
     "output_type": "stream",
     "text": [
      "[0 1 2 3 4 5 6 7 8 9]\n",
      "[[0 1 2 3 4]\n",
      " [5 6 7 8 9]]\n"
     ]
    }
   ],
   "source": [
    "import numpy as np\n",
    "\n",
    "arr = np.arange(10)\n",
    "print(arr)\n",
    "\n",
    "reshp = arr.reshape(2, 5) # list 형태로 변환 가능\n",
    "print(reshp)"
   ]
  },
  {
   "cell_type": "code",
   "execution_count": 6,
   "id": "c9352a74-8086-4ca9-8b35-13d7295f9c58",
   "metadata": {},
   "outputs": [
    {
     "name": "stdout",
     "output_type": "stream",
     "text": [
      "[ 4  5  6  7  8  9 10 11 12 13 14]\n",
      "4\n",
      "[4 5 6 7 8]\n",
      "[ 7  8  9 10 11 12 13]\n"
     ]
    }
   ],
   "source": [
    "arr = np.arange(4, 15)\n",
    "print(arr)\n",
    "\n",
    "print(arr[0])\n",
    "\n",
    "s1 = arr[:5]\n",
    "print(s1)\n",
    "\n",
    "s2 = arr[3:10]\n",
    "print(s2)"
   ]
  },
  {
   "cell_type": "code",
   "execution_count": 9,
   "id": "235e8b5c-1c9b-4ebd-b3dc-f487c5f8eda0",
   "metadata": {},
   "outputs": [
    {
     "name": "stdout",
     "output_type": "stream",
     "text": [
      "[[1, 2, 3], [4, 5, 6]]\n",
      "<class 'list'>\n"
     ]
    },
    {
     "data": {
      "text/plain": [
       "5"
      ]
     },
     "execution_count": 9,
     "metadata": {},
     "output_type": "execute_result"
    }
   ],
   "source": [
    "data = [[1, 2, 3],\n",
    "        [4, 5, 6]]\n",
    "\n",
    "print(data)\n",
    "print(type(data))\n",
    "data[0]\n",
    "data[0][0]\n",
    "data[1][1]"
   ]
  },
  {
   "cell_type": "code",
   "execution_count": 15,
   "id": "d883d436-631a-4ea8-b70e-bc0f573c0297",
   "metadata": {},
   "outputs": [
    {
     "name": "stdout",
     "output_type": "stream",
     "text": [
      "<class 'numpy.ndarray'>\n",
      "[[1 2 3]\n",
      " [4 5 6]]\n",
      "[1 2 3]\n",
      "[4 5 6]\n",
      "1\n",
      "5\n",
      "[1 4]\n"
     ]
    }
   ],
   "source": [
    "arr = np.array(data)\n",
    "print(type(arr))\n",
    "\n",
    "print(arr)\n",
    "\n",
    "print(arr[0])\n",
    "print(arr[1])\n",
    "\n",
    "print(arr[0][0])\n",
    "print(arr[1, 1])\n",
    "print(arr[:, 0]) # 모든 row에서 첫번째 column만 가져옴"
   ]
  },
  {
   "cell_type": "code",
   "execution_count": 22,
   "id": "7a7642ca-4ddb-41db-9660-955c5cc35729",
   "metadata": {},
   "outputs": [
    {
     "name": "stdout",
     "output_type": "stream",
     "text": [
      "[[0 1 2 3 4]\n",
      " [5 6 7 8 9]]\n",
      "9\n",
      "[5 6 7 8 9]\n",
      "[[5 6 7 8 9]]\n"
     ]
    }
   ],
   "source": [
    "arr = np.arange(10).reshape(2, 5)\n",
    "print(arr)\n",
    "\n",
    "s1 = arr[1, 4]\n",
    "print(s1)\n",
    "\n",
    "s2 = arr[1]\n",
    "print(s2)\n",
    "\n",
    "s3 = arr[1:5]\n",
    "print(s3)"
   ]
  },
  {
   "cell_type": "code",
   "execution_count": null,
   "id": "052773ee-2f8d-4f00-ae97-6a99d34e6024",
   "metadata": {},
   "outputs": [],
   "source": []
  }
 ],
 "metadata": {
  "kernelspec": {
   "display_name": "venvK",
   "language": "python",
   "name": "venv"
  },
  "language_info": {
   "codemirror_mode": {
    "name": "ipython",
    "version": 3
   },
   "file_extension": ".py",
   "mimetype": "text/x-python",
   "name": "python",
   "nbconvert_exporter": "python",
   "pygments_lexer": "ipython3",
   "version": "3.11.9"
  }
 },
 "nbformat": 4,
 "nbformat_minor": 5
}
